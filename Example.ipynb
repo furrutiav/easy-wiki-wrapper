{
 "cells": [
  {
   "cell_type": "markdown",
   "id": "92b958d9",
   "metadata": {},
   "source": [
    "Author: Felipe Urrutia\n",
    "\n",
    "Repository: https://github.com/furrutiav/easy-wiki-wrapper"
   ]
  },
  {
   "cell_type": "markdown",
   "id": "86332820",
   "metadata": {},
   "source": [
    "# Example of use"
   ]
  },
  {
   "cell_type": "markdown",
   "id": "97b71e2b",
   "metadata": {},
   "source": [
    "Import"
   ]
  },
  {
   "cell_type": "code",
   "execution_count": 1,
   "id": "51be22d7",
   "metadata": {},
   "outputs": [],
   "source": [
    "from easy_wiki_wrapper import WikiWrapper"
   ]
  },
  {
   "cell_type": "markdown",
   "id": "22a2644e",
   "metadata": {},
   "source": [
    "Initialize"
   ]
  },
  {
   "cell_type": "code",
   "execution_count": 2,
   "id": "9cfb4306",
   "metadata": {},
   "outputs": [],
   "source": [
    "WW = WikiWrapper()"
   ]
  },
  {
   "cell_type": "markdown",
   "id": "9132c596",
   "metadata": {},
   "source": [
    "Search"
   ]
  },
  {
   "cell_type": "code",
   "execution_count": 3,
   "id": "c0ada2e8",
   "metadata": {
    "scrolled": true
   },
   "outputs": [
    {
     "data": {
      "text/plain": [
       "[{'ns': 0, 'title': 'Natural language processing', 'pageid': 21652},\n",
       " {'ns': 0,\n",
       "  'title': 'Outline of natural language processing',\n",
       "  'pageid': 37764426},\n",
       " {'ns': 0, 'title': 'Natural language', 'pageid': 21173},\n",
       " {'ns': 0,\n",
       "  'title': 'History of natural language processing',\n",
       "  'pageid': 27837170},\n",
       " {'ns': 0, 'title': 'Natural-language understanding', 'pageid': 98778},\n",
       " {'ns': 0, 'title': 'Natural Language Toolkit', 'pageid': 1661566},\n",
       " {'ns': 0, 'title': 'Natural-language user interface', 'pageid': 18863997},\n",
       " {'ns': 0, 'title': 'Language model', 'pageid': 1911810},\n",
       " {'ns': 0, 'title': 'Natural-language programming', 'pageid': 18784729},\n",
       " {'ns': 0, 'title': 'Process', 'pageid': 4746766},\n",
       " {'ns': 0,\n",
       "  'title': 'List of artificial intelligence projects',\n",
       "  'pageid': 2142},\n",
       " {'ns': 0, 'title': 'Natural language generation', 'pageid': 301999},\n",
       " {'ns': 0, 'title': 'Controlled natural language', 'pageid': 563439},\n",
       " {'ns': 0, 'title': 'Parsing', 'pageid': 310015},\n",
       " {'ns': 0, 'title': 'Information engineering (field)', 'pageid': 58644759}]"
      ]
     },
     "execution_count": 3,
     "metadata": {},
     "output_type": "execute_result"
    }
   ],
   "source": [
    "WW.get_search(\"machine learning\");\n",
    "WW.get_search(\"natural language processing\")"
   ]
  },
  {
   "cell_type": "markdown",
   "id": "c506402b",
   "metadata": {},
   "source": [
    "Categories of an entity mentioned"
   ]
  },
  {
   "cell_type": "code",
   "execution_count": null,
   "id": "a46f347b",
   "metadata": {
    "scrolled": false
   },
   "outputs": [],
   "source": [
    "WW.get_categories('Natural language processing', and_hid=True)"
   ]
  },
  {
   "cell_type": "markdown",
   "id": "4073cdcb",
   "metadata": {},
   "source": [
    "Categories of an category mentioned"
   ]
  },
  {
   "cell_type": "code",
   "execution_count": null,
   "id": "a9f8fdf3",
   "metadata": {
    "scrolled": true
   },
   "outputs": [],
   "source": [
    "WW.get_categories('Category:Artificial intelligence', and_hid=True)"
   ]
  },
  {
   "cell_type": "markdown",
   "id": "d866fb6e",
   "metadata": {},
   "source": [
    "Show memory of searchs"
   ]
  },
  {
   "cell_type": "code",
   "execution_count": null,
   "id": "8afbcda1",
   "metadata": {},
   "outputs": [],
   "source": [
    "WW.search"
   ]
  },
  {
   "cell_type": "markdown",
   "id": "78bc683f",
   "metadata": {},
   "source": [
    "Show memory of categories"
   ]
  },
  {
   "cell_type": "code",
   "execution_count": null,
   "id": "e2f926fa",
   "metadata": {},
   "outputs": [],
   "source": [
    "WW.categories"
   ]
  },
  {
   "cell_type": "markdown",
   "id": "c774c6ca",
   "metadata": {},
   "source": [
    "Know the power of redirects!"
   ]
  },
  {
   "cell_type": "code",
   "execution_count": null,
   "id": "a8375428",
   "metadata": {
    "scrolled": false
   },
   "outputs": [],
   "source": [
    "WW.get_redirects('Natural language processing')"
   ]
  },
  {
   "cell_type": "markdown",
   "id": "168738db",
   "metadata": {},
   "source": [
    "Local context of an article are Bold tokens and Highlighted tokens"
   ]
  },
  {
   "cell_type": "code",
   "execution_count": null,
   "id": "ae472b3a",
   "metadata": {},
   "outputs": [],
   "source": [
    "WW.get_local_context('Natural language processing')"
   ]
  },
  {
   "cell_type": "markdown",
   "id": "2fbb6cc1",
   "metadata": {},
   "source": [
    "Most import space in wikipedia: (links here)In- and (links)out-links"
   ]
  },
  {
   "cell_type": "code",
   "execution_count": null,
   "id": "c4d197b7",
   "metadata": {},
   "outputs": [],
   "source": [
    "WW.get_iolinks(WW.get_search(\"brad pitt\")[0][\"title\"])"
   ]
  },
  {
   "cell_type": "markdown",
   "id": "dfdf0a18",
   "metadata": {},
   "source": [
    "*Brad Pitt apunta a AC/DC, pero al reves no."
   ]
  },
  {
   "cell_type": "markdown",
   "id": "70cb673d",
   "metadata": {},
   "source": [
    "More useful way to search: add desambiguation key 0:if not, None: if yes"
   ]
  },
  {
   "cell_type": "code",
   "execution_count": null,
   "id": "4252b6ee",
   "metadata": {
    "scrolled": true
   },
   "outputs": [],
   "source": [
    "WW.get_results(\"NLP\")"
   ]
  },
  {
   "cell_type": "code",
   "execution_count": null,
   "id": "91cbaa9e",
   "metadata": {},
   "outputs": [],
   "source": [
    "WW.info_articles[\"des\"][1]"
   ]
  },
  {
   "cell_type": "markdown",
   "id": "b126d964",
   "metadata": {},
   "source": []
  },
  {
   "cell_type": "code",
   "execution_count": null,
   "id": "829d7d67",
   "metadata": {},
   "outputs": [],
   "source": [
    "WW.save(\"ww_test.pickle\")"
   ]
  },
  {
   "cell_type": "code",
   "execution_count": null,
   "id": "cc2931a3",
   "metadata": {},
   "outputs": [],
   "source": [
    "new_WW = WikiWrapper()\n",
    "vars(new_WW)"
   ]
  },
  {
   "cell_type": "code",
   "execution_count": null,
   "id": "47697296",
   "metadata": {},
   "outputs": [],
   "source": [
    "new_WW.load(\"ww_test.pickle\")\n",
    "vars(new_WW)"
   ]
  }
 ],
 "metadata": {
  "kernelspec": {
   "display_name": "Python 3 (ipykernel)",
   "language": "python",
   "name": "python3"
  },
  "language_info": {
   "codemirror_mode": {
    "name": "ipython",
    "version": 3
   },
   "file_extension": ".py",
   "mimetype": "text/x-python",
   "name": "python",
   "nbconvert_exporter": "python",
   "pygments_lexer": "ipython3",
   "version": "3.8.5"
  }
 },
 "nbformat": 4,
 "nbformat_minor": 5
}
